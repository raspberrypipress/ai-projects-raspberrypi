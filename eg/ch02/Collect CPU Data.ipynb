{
 "cells": [
  {
   "cell_type": "code",
   "execution_count": null,
   "id": "48d7c1cf-2248-42bf-9616-20c27c0b86fc",
   "metadata": {},
   "outputs": [],
   "source": [
    "import pandas as pd\n",
    "import numpy as np\n",
    "from tqdm.notebook import trange, tqdm\n",
    "import psutil\n",
    "import re\n",
    "import os\n",
    "import time\n",
    "from datetime import datetime"
   ]
  },
  {
   "cell_type": "code",
   "execution_count": null,
   "id": "76fe5a69-96c4-40e9-b58b-e893d90d5c74",
   "metadata": {},
   "outputs": [],
   "source": [
    "# Collect some CPU activity/thermal data\n",
    "# Intuitively, we all know these are related.\n",
    "# But can some of these predict the others? Reliably?\n",
    "\n",
    "def get_cpu_speed():\n",
    "    val = os.popen(\"vcgencmd measure_clock arm\").read()\n",
    "    return float(val[val.find(\"=\")+1:]) / 10**9\n",
    "\n",
    "\n",
    "def get_cpu_temp():\n",
    "    val = os.popen(\"vcgencmd measure_temp\").read()\n",
    "    return float(re.search(r\"temp=([\\d\\.]+)\", val)[1])\n",
    "\n",
    "\n",
    "def get_volts():\n",
    "    val = os.popen(\"vcgencmd measure_volts\").read()\n",
    "    return float(re.search(r\"volt=([\\d\\.]+)\", val)[1])\n",
    "\n",
    "\n",
    "fandir = \"/sys/devices/platform/cooling_fan/hwmon/\"\n",
    "fan = \"\"\n",
    "if os.path.isfile(fandir):\n",
    "    fans = os.listdir(fandir)\n",
    "    if fans:\n",
    "        fan = os.path.join(fandir, fans[0], \"fan1_input\")\n",
    "\n",
    "def get_fan_speed():\n",
    "    speed = 0.0\n",
    "    if fan:\n",
    "        with open(fan) as file:\n",
    "            speed = float(file.read())\n",
    "    return speed\n",
    "\n",
    "\n",
    "numsamples = 2500\n",
    "samples = []\n",
    "for i in trange(numsamples):\n",
    "    samples.append([get_cpu_speed(), get_volts(), get_fan_speed(), psutil.cpu_percent(), psutil.getloadavg()[0], get_cpu_temp()])\n",
    "    time.sleep(0.5)"
   ]
  },
  {
   "cell_type": "code",
   "execution_count": null,
   "id": "f2ef6e25-d96f-48cd-ba2c-49585a9dc061",
   "metadata": {},
   "outputs": [],
   "source": [
    "df = pd.DataFrame(samples)\n",
    "df.columns = ['cpu_speed', 'volts', 'fan_speed', 'cpu_pct', 'load_avg', 'temp']\n",
    "df.to_csv(f\"readings-{datetime.today().strftime('%Y-%m-%d-%H.00')}.csv\", index=False)"
   ]
  },
  {
   "cell_type": "code",
   "execution_count": null,
   "id": "eab73854-c6c3-4ba3-ac2c-739ca3e82af8",
   "metadata": {},
   "outputs": [],
   "source": []
  }
 ],
 "metadata": {
  "kernelspec": {
   "display_name": "Python 3 (ipykernel)",
   "language": "python",
   "name": "python3"
  },
  "language_info": {
   "codemirror_mode": {
    "name": "ipython",
    "version": 3
   },
   "file_extension": ".py",
   "mimetype": "text/x-python",
   "name": "python",
   "nbconvert_exporter": "python",
   "pygments_lexer": "ipython3",
   "version": "3.11.2"
  }
 },
 "nbformat": 4,
 "nbformat_minor": 5
}
